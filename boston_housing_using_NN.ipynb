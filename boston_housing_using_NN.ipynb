{
  "nbformat": 4,
  "nbformat_minor": 0,
  "metadata": {
    "colab": {
      "name": "Untitled1.ipynb",
      "provenance": [],
      "authorship_tag": "ABX9TyO4F4i1ijIgurlDDwhfUFA2",
      "include_colab_link": true
    },
    "kernelspec": {
      "name": "python3",
      "display_name": "Python 3"
    },
    "language_info": {
      "name": "python"
    }
  },
  "cells": [
    {
      "cell_type": "markdown",
      "metadata": {
        "id": "view-in-github",
        "colab_type": "text"
      },
      "source": [
        "<a href=\"https://colab.research.google.com/github/whoisprakhar44/whoisprakhar44/blob/main/boston_housing_using_NN.ipynb\" target=\"_parent\"><img src=\"https://colab.research.google.com/assets/colab-badge.svg\" alt=\"Open In Colab\"/></a>"
      ]
    },
    {
      "cell_type": "code",
      "execution_count": 10,
      "metadata": {
        "id": "JScnW5TWjMFw"
      },
      "outputs": [],
      "source": [
        "import tensorflow as tf\n",
        "import pandas as pd\n",
        "import matplotlib.pyplot as plt\n",
        "import numpy as np"
      ]
    },
    {
      "cell_type": "code",
      "source": [
        "# importing the Boston Housing dataset from Tensorflow\n",
        "(X_train, y_train), (X_test, y_test) = tf.keras.datasets.boston_housing.load_data(path = 'boston_housing.npz',\n",
        "                                                                                  test_split =0.2,\n",
        "                                                                                  seed = 42)"
      ],
      "metadata": {
        "id": "VGcMdjmIlZYB"
      },
      "execution_count": 29,
      "outputs": []
    },
    {
      "cell_type": "code",
      "source": [
        "# checking the shape of the data\n",
        "X_train.shape, y_train.shape"
      ],
      "metadata": {
        "colab": {
          "base_uri": "https://localhost:8080/"
        },
        "id": "-kNsnp9Ul16w",
        "outputId": "38207d49-7cbf-430c-f642-a393757310e3"
      },
      "execution_count": 30,
      "outputs": [
        {
          "output_type": "execute_result",
          "data": {
            "text/plain": [
              "((404, 13), (404,))"
            ]
          },
          "metadata": {},
          "execution_count": 30
        }
      ]
    },
    {
      "cell_type": "code",
      "source": [
        "y_test[0]"
      ],
      "metadata": {
        "colab": {
          "base_uri": "https://localhost:8080/"
        },
        "id": "OArvk61H2t1y",
        "outputId": "59e8f75b-3fab-46e7-93a8-76af5fbbcd1e"
      },
      "execution_count": 47,
      "outputs": [
        {
          "output_type": "execute_result",
          "data": {
            "text/plain": [
              "22.4"
            ]
          },
          "metadata": {},
          "execution_count": 47
        }
      ]
    },
    {
      "cell_type": "code",
      "source": [
        "pd.DataFrame(X_test)"
      ],
      "metadata": {
        "colab": {
          "base_uri": "https://localhost:8080/",
          "height": 424
        },
        "id": "SR1f0Liul7tk",
        "outputId": "f0c55e95-48a1-47c4-a2f4-54cdc73fbbe2"
      },
      "execution_count": 49,
      "outputs": [
        {
          "output_type": "execute_result",
          "data": {
            "text/html": [
              "\n",
              "  <div id=\"df-ebb4543f-68e0-439d-8c95-ba5968708fbf\">\n",
              "    <div class=\"colab-df-container\">\n",
              "      <div>\n",
              "<style scoped>\n",
              "    .dataframe tbody tr th:only-of-type {\n",
              "        vertical-align: middle;\n",
              "    }\n",
              "\n",
              "    .dataframe tbody tr th {\n",
              "        vertical-align: top;\n",
              "    }\n",
              "\n",
              "    .dataframe thead th {\n",
              "        text-align: right;\n",
              "    }\n",
              "</style>\n",
              "<table border=\"1\" class=\"dataframe\">\n",
              "  <thead>\n",
              "    <tr style=\"text-align: right;\">\n",
              "      <th></th>\n",
              "      <th>0</th>\n",
              "      <th>1</th>\n",
              "      <th>2</th>\n",
              "      <th>3</th>\n",
              "      <th>4</th>\n",
              "      <th>5</th>\n",
              "      <th>6</th>\n",
              "      <th>7</th>\n",
              "      <th>8</th>\n",
              "      <th>9</th>\n",
              "      <th>10</th>\n",
              "      <th>11</th>\n",
              "      <th>12</th>\n",
              "    </tr>\n",
              "  </thead>\n",
              "  <tbody>\n",
              "    <tr>\n",
              "      <th>0</th>\n",
              "      <td>0.21719</td>\n",
              "      <td>0.0</td>\n",
              "      <td>10.59</td>\n",
              "      <td>1.0</td>\n",
              "      <td>0.489</td>\n",
              "      <td>5.807</td>\n",
              "      <td>53.8</td>\n",
              "      <td>3.6526</td>\n",
              "      <td>4.0</td>\n",
              "      <td>277.0</td>\n",
              "      <td>18.6</td>\n",
              "      <td>390.94</td>\n",
              "      <td>16.03</td>\n",
              "    </tr>\n",
              "    <tr>\n",
              "      <th>1</th>\n",
              "      <td>0.12932</td>\n",
              "      <td>0.0</td>\n",
              "      <td>13.92</td>\n",
              "      <td>0.0</td>\n",
              "      <td>0.437</td>\n",
              "      <td>6.678</td>\n",
              "      <td>31.1</td>\n",
              "      <td>5.9604</td>\n",
              "      <td>4.0</td>\n",
              "      <td>289.0</td>\n",
              "      <td>16.0</td>\n",
              "      <td>396.90</td>\n",
              "      <td>6.27</td>\n",
              "    </tr>\n",
              "    <tr>\n",
              "      <th>2</th>\n",
              "      <td>6.65492</td>\n",
              "      <td>0.0</td>\n",
              "      <td>18.10</td>\n",
              "      <td>0.0</td>\n",
              "      <td>0.713</td>\n",
              "      <td>6.317</td>\n",
              "      <td>83.0</td>\n",
              "      <td>2.7344</td>\n",
              "      <td>24.0</td>\n",
              "      <td>666.0</td>\n",
              "      <td>20.2</td>\n",
              "      <td>396.90</td>\n",
              "      <td>13.99</td>\n",
              "    </tr>\n",
              "    <tr>\n",
              "      <th>3</th>\n",
              "      <td>0.21409</td>\n",
              "      <td>22.0</td>\n",
              "      <td>5.86</td>\n",
              "      <td>0.0</td>\n",
              "      <td>0.431</td>\n",
              "      <td>6.438</td>\n",
              "      <td>8.9</td>\n",
              "      <td>7.3967</td>\n",
              "      <td>7.0</td>\n",
              "      <td>330.0</td>\n",
              "      <td>19.1</td>\n",
              "      <td>377.07</td>\n",
              "      <td>3.59</td>\n",
              "    </tr>\n",
              "    <tr>\n",
              "      <th>4</th>\n",
              "      <td>0.27957</td>\n",
              "      <td>0.0</td>\n",
              "      <td>9.69</td>\n",
              "      <td>0.0</td>\n",
              "      <td>0.585</td>\n",
              "      <td>5.926</td>\n",
              "      <td>42.6</td>\n",
              "      <td>2.3817</td>\n",
              "      <td>6.0</td>\n",
              "      <td>391.0</td>\n",
              "      <td>19.2</td>\n",
              "      <td>396.90</td>\n",
              "      <td>13.59</td>\n",
              "    </tr>\n",
              "    <tr>\n",
              "      <th>...</th>\n",
              "      <td>...</td>\n",
              "      <td>...</td>\n",
              "      <td>...</td>\n",
              "      <td>...</td>\n",
              "      <td>...</td>\n",
              "      <td>...</td>\n",
              "      <td>...</td>\n",
              "      <td>...</td>\n",
              "      <td>...</td>\n",
              "      <td>...</td>\n",
              "      <td>...</td>\n",
              "      <td>...</td>\n",
              "      <td>...</td>\n",
              "    </tr>\n",
              "    <tr>\n",
              "      <th>97</th>\n",
              "      <td>0.17120</td>\n",
              "      <td>0.0</td>\n",
              "      <td>8.56</td>\n",
              "      <td>0.0</td>\n",
              "      <td>0.520</td>\n",
              "      <td>5.836</td>\n",
              "      <td>91.9</td>\n",
              "      <td>2.2110</td>\n",
              "      <td>5.0</td>\n",
              "      <td>384.0</td>\n",
              "      <td>20.9</td>\n",
              "      <td>395.67</td>\n",
              "      <td>18.66</td>\n",
              "    </tr>\n",
              "    <tr>\n",
              "      <th>98</th>\n",
              "      <td>0.29916</td>\n",
              "      <td>20.0</td>\n",
              "      <td>6.96</td>\n",
              "      <td>0.0</td>\n",
              "      <td>0.464</td>\n",
              "      <td>5.856</td>\n",
              "      <td>42.1</td>\n",
              "      <td>4.4290</td>\n",
              "      <td>3.0</td>\n",
              "      <td>223.0</td>\n",
              "      <td>18.6</td>\n",
              "      <td>388.65</td>\n",
              "      <td>13.00</td>\n",
              "    </tr>\n",
              "    <tr>\n",
              "      <th>99</th>\n",
              "      <td>0.01501</td>\n",
              "      <td>80.0</td>\n",
              "      <td>2.01</td>\n",
              "      <td>0.0</td>\n",
              "      <td>0.435</td>\n",
              "      <td>6.635</td>\n",
              "      <td>29.7</td>\n",
              "      <td>8.3440</td>\n",
              "      <td>4.0</td>\n",
              "      <td>280.0</td>\n",
              "      <td>17.0</td>\n",
              "      <td>390.94</td>\n",
              "      <td>5.99</td>\n",
              "    </tr>\n",
              "    <tr>\n",
              "      <th>100</th>\n",
              "      <td>11.16040</td>\n",
              "      <td>0.0</td>\n",
              "      <td>18.10</td>\n",
              "      <td>0.0</td>\n",
              "      <td>0.740</td>\n",
              "      <td>6.629</td>\n",
              "      <td>94.6</td>\n",
              "      <td>2.1247</td>\n",
              "      <td>24.0</td>\n",
              "      <td>666.0</td>\n",
              "      <td>20.2</td>\n",
              "      <td>109.85</td>\n",
              "      <td>23.27</td>\n",
              "    </tr>\n",
              "    <tr>\n",
              "      <th>101</th>\n",
              "      <td>0.22876</td>\n",
              "      <td>0.0</td>\n",
              "      <td>8.56</td>\n",
              "      <td>0.0</td>\n",
              "      <td>0.520</td>\n",
              "      <td>6.405</td>\n",
              "      <td>85.4</td>\n",
              "      <td>2.7147</td>\n",
              "      <td>5.0</td>\n",
              "      <td>384.0</td>\n",
              "      <td>20.9</td>\n",
              "      <td>70.80</td>\n",
              "      <td>10.63</td>\n",
              "    </tr>\n",
              "  </tbody>\n",
              "</table>\n",
              "<p>102 rows × 13 columns</p>\n",
              "</div>\n",
              "      <button class=\"colab-df-convert\" onclick=\"convertToInteractive('df-ebb4543f-68e0-439d-8c95-ba5968708fbf')\"\n",
              "              title=\"Convert this dataframe to an interactive table.\"\n",
              "              style=\"display:none;\">\n",
              "        \n",
              "  <svg xmlns=\"http://www.w3.org/2000/svg\" height=\"24px\"viewBox=\"0 0 24 24\"\n",
              "       width=\"24px\">\n",
              "    <path d=\"M0 0h24v24H0V0z\" fill=\"none\"/>\n",
              "    <path d=\"M18.56 5.44l.94 2.06.94-2.06 2.06-.94-2.06-.94-.94-2.06-.94 2.06-2.06.94zm-11 1L8.5 8.5l.94-2.06 2.06-.94-2.06-.94L8.5 2.5l-.94 2.06-2.06.94zm10 10l.94 2.06.94-2.06 2.06-.94-2.06-.94-.94-2.06-.94 2.06-2.06.94z\"/><path d=\"M17.41 7.96l-1.37-1.37c-.4-.4-.92-.59-1.43-.59-.52 0-1.04.2-1.43.59L10.3 9.45l-7.72 7.72c-.78.78-.78 2.05 0 2.83L4 21.41c.39.39.9.59 1.41.59.51 0 1.02-.2 1.41-.59l7.78-7.78 2.81-2.81c.8-.78.8-2.07 0-2.86zM5.41 20L4 18.59l7.72-7.72 1.47 1.35L5.41 20z\"/>\n",
              "  </svg>\n",
              "      </button>\n",
              "      \n",
              "  <style>\n",
              "    .colab-df-container {\n",
              "      display:flex;\n",
              "      flex-wrap:wrap;\n",
              "      gap: 12px;\n",
              "    }\n",
              "\n",
              "    .colab-df-convert {\n",
              "      background-color: #E8F0FE;\n",
              "      border: none;\n",
              "      border-radius: 50%;\n",
              "      cursor: pointer;\n",
              "      display: none;\n",
              "      fill: #1967D2;\n",
              "      height: 32px;\n",
              "      padding: 0 0 0 0;\n",
              "      width: 32px;\n",
              "    }\n",
              "\n",
              "    .colab-df-convert:hover {\n",
              "      background-color: #E2EBFA;\n",
              "      box-shadow: 0px 1px 2px rgba(60, 64, 67, 0.3), 0px 1px 3px 1px rgba(60, 64, 67, 0.15);\n",
              "      fill: #174EA6;\n",
              "    }\n",
              "\n",
              "    [theme=dark] .colab-df-convert {\n",
              "      background-color: #3B4455;\n",
              "      fill: #D2E3FC;\n",
              "    }\n",
              "\n",
              "    [theme=dark] .colab-df-convert:hover {\n",
              "      background-color: #434B5C;\n",
              "      box-shadow: 0px 1px 3px 1px rgba(0, 0, 0, 0.15);\n",
              "      filter: drop-shadow(0px 1px 2px rgba(0, 0, 0, 0.3));\n",
              "      fill: #FFFFFF;\n",
              "    }\n",
              "  </style>\n",
              "\n",
              "      <script>\n",
              "        const buttonEl =\n",
              "          document.querySelector('#df-ebb4543f-68e0-439d-8c95-ba5968708fbf button.colab-df-convert');\n",
              "        buttonEl.style.display =\n",
              "          google.colab.kernel.accessAllowed ? 'block' : 'none';\n",
              "\n",
              "        async function convertToInteractive(key) {\n",
              "          const element = document.querySelector('#df-ebb4543f-68e0-439d-8c95-ba5968708fbf');\n",
              "          const dataTable =\n",
              "            await google.colab.kernel.invokeFunction('convertToInteractive',\n",
              "                                                     [key], {});\n",
              "          if (!dataTable) return;\n",
              "\n",
              "          const docLinkHtml = 'Like what you see? Visit the ' +\n",
              "            '<a target=\"_blank\" href=https://colab.research.google.com/notebooks/data_table.ipynb>data table notebook</a>'\n",
              "            + ' to learn more about interactive tables.';\n",
              "          element.innerHTML = '';\n",
              "          dataTable['output_type'] = 'display_data';\n",
              "          await google.colab.output.renderOutput(dataTable, element);\n",
              "          const docLink = document.createElement('div');\n",
              "          docLink.innerHTML = docLinkHtml;\n",
              "          element.appendChild(docLink);\n",
              "        }\n",
              "      </script>\n",
              "    </div>\n",
              "  </div>\n",
              "  "
            ],
            "text/plain": [
              "           0     1      2    3      4      5     6       7     8      9   \\\n",
              "0     0.21719   0.0  10.59  1.0  0.489  5.807  53.8  3.6526   4.0  277.0   \n",
              "1     0.12932   0.0  13.92  0.0  0.437  6.678  31.1  5.9604   4.0  289.0   \n",
              "2     6.65492   0.0  18.10  0.0  0.713  6.317  83.0  2.7344  24.0  666.0   \n",
              "3     0.21409  22.0   5.86  0.0  0.431  6.438   8.9  7.3967   7.0  330.0   \n",
              "4     0.27957   0.0   9.69  0.0  0.585  5.926  42.6  2.3817   6.0  391.0   \n",
              "..        ...   ...    ...  ...    ...    ...   ...     ...   ...    ...   \n",
              "97    0.17120   0.0   8.56  0.0  0.520  5.836  91.9  2.2110   5.0  384.0   \n",
              "98    0.29916  20.0   6.96  0.0  0.464  5.856  42.1  4.4290   3.0  223.0   \n",
              "99    0.01501  80.0   2.01  0.0  0.435  6.635  29.7  8.3440   4.0  280.0   \n",
              "100  11.16040   0.0  18.10  0.0  0.740  6.629  94.6  2.1247  24.0  666.0   \n",
              "101   0.22876   0.0   8.56  0.0  0.520  6.405  85.4  2.7147   5.0  384.0   \n",
              "\n",
              "       10      11     12  \n",
              "0    18.6  390.94  16.03  \n",
              "1    16.0  396.90   6.27  \n",
              "2    20.2  396.90  13.99  \n",
              "3    19.1  377.07   3.59  \n",
              "4    19.2  396.90  13.59  \n",
              "..    ...     ...    ...  \n",
              "97   20.9  395.67  18.66  \n",
              "98   18.6  388.65  13.00  \n",
              "99   17.0  390.94   5.99  \n",
              "100  20.2  109.85  23.27  \n",
              "101  20.9   70.80  10.63  \n",
              "\n",
              "[102 rows x 13 columns]"
            ]
          },
          "metadata": {},
          "execution_count": 49
        }
      ]
    },
    {
      "cell_type": "code",
      "source": [
        "# without using Normalized Data\n",
        "tf.random.set_seed(42)\n",
        "model_1 = tf.keras.Sequential([\n",
        "                               tf.keras.layers.Dense(50),\n",
        "                               tf.keras.layers.Dense(50),\n",
        "                               tf.keras.layers.Dense(1),\n",
        "])\n",
        "\n",
        "model_1.compile(loss = tf.keras.losses.mae,\n",
        "                optimizer = tf.keras.optimizers.Adam(learning_rate=0.01),\n",
        "                metrics = ['mae'])\n",
        "\n",
        "history = model_1.fit(X_train, y_train, epochs = 100)"
      ],
      "metadata": {
        "colab": {
          "base_uri": "https://localhost:8080/"
        },
        "id": "IvmmIJ541Cjm",
        "outputId": "f86436bf-c086-440a-f67f-63545d8c3227"
      },
      "execution_count": 65,
      "outputs": [
        {
          "output_type": "stream",
          "name": "stdout",
          "text": [
            "Epoch 1/100\n",
            "13/13 [==============================] - 0s 2ms/step - loss: 121.3621 - mae: 121.3621\n",
            "Epoch 2/100\n",
            "13/13 [==============================] - 0s 2ms/step - loss: 23.6923 - mae: 23.6923\n",
            "Epoch 3/100\n",
            "13/13 [==============================] - 0s 3ms/step - loss: 11.0274 - mae: 11.0274\n",
            "Epoch 4/100\n",
            "13/13 [==============================] - 0s 2ms/step - loss: 6.5871 - mae: 6.5871\n",
            "Epoch 5/100\n",
            "13/13 [==============================] - 0s 2ms/step - loss: 6.6411 - mae: 6.6411\n",
            "Epoch 6/100\n",
            "13/13 [==============================] - 0s 2ms/step - loss: 6.6998 - mae: 6.6998\n",
            "Epoch 7/100\n",
            "13/13 [==============================] - 0s 2ms/step - loss: 7.2294 - mae: 7.2294\n",
            "Epoch 8/100\n",
            "13/13 [==============================] - 0s 2ms/step - loss: 7.8221 - mae: 7.8221\n",
            "Epoch 9/100\n",
            "13/13 [==============================] - 0s 2ms/step - loss: 7.7944 - mae: 7.7944\n",
            "Epoch 10/100\n",
            "13/13 [==============================] - 0s 4ms/step - loss: 7.5917 - mae: 7.5917\n",
            "Epoch 11/100\n",
            "13/13 [==============================] - 0s 2ms/step - loss: 6.4174 - mae: 6.4174\n",
            "Epoch 12/100\n",
            "13/13 [==============================] - 0s 2ms/step - loss: 6.2488 - mae: 6.2488\n",
            "Epoch 13/100\n",
            "13/13 [==============================] - 0s 2ms/step - loss: 5.6680 - mae: 5.6680\n",
            "Epoch 14/100\n",
            "13/13 [==============================] - 0s 2ms/step - loss: 6.0841 - mae: 6.0841\n",
            "Epoch 15/100\n",
            "13/13 [==============================] - 0s 2ms/step - loss: 5.5156 - mae: 5.5156\n",
            "Epoch 16/100\n",
            "13/13 [==============================] - 0s 2ms/step - loss: 6.3867 - mae: 6.3867\n",
            "Epoch 17/100\n",
            "13/13 [==============================] - 0s 2ms/step - loss: 6.0769 - mae: 6.0769\n",
            "Epoch 18/100\n",
            "13/13 [==============================] - 0s 2ms/step - loss: 7.6491 - mae: 7.6491\n",
            "Epoch 19/100\n",
            "13/13 [==============================] - 0s 3ms/step - loss: 7.0100 - mae: 7.0100\n",
            "Epoch 20/100\n",
            "13/13 [==============================] - 0s 2ms/step - loss: 6.6842 - mae: 6.6842\n",
            "Epoch 21/100\n",
            "13/13 [==============================] - 0s 2ms/step - loss: 5.6596 - mae: 5.6596\n",
            "Epoch 22/100\n",
            "13/13 [==============================] - 0s 2ms/step - loss: 5.6658 - mae: 5.6658\n",
            "Epoch 23/100\n",
            "13/13 [==============================] - 0s 2ms/step - loss: 6.4558 - mae: 6.4558\n",
            "Epoch 24/100\n",
            "13/13 [==============================] - 0s 3ms/step - loss: 6.2012 - mae: 6.2012\n",
            "Epoch 25/100\n",
            "13/13 [==============================] - 0s 2ms/step - loss: 5.6441 - mae: 5.6441\n",
            "Epoch 26/100\n",
            "13/13 [==============================] - 0s 3ms/step - loss: 5.2225 - mae: 5.2225\n",
            "Epoch 27/100\n",
            "13/13 [==============================] - 0s 2ms/step - loss: 5.7674 - mae: 5.7674\n",
            "Epoch 28/100\n",
            "13/13 [==============================] - 0s 2ms/step - loss: 5.1726 - mae: 5.1726\n",
            "Epoch 29/100\n",
            "13/13 [==============================] - 0s 2ms/step - loss: 5.3025 - mae: 5.3025\n",
            "Epoch 30/100\n",
            "13/13 [==============================] - 0s 3ms/step - loss: 5.2999 - mae: 5.2999\n",
            "Epoch 31/100\n",
            "13/13 [==============================] - 0s 2ms/step - loss: 5.5334 - mae: 5.5334\n",
            "Epoch 32/100\n",
            "13/13 [==============================] - 0s 3ms/step - loss: 5.3952 - mae: 5.3952\n",
            "Epoch 33/100\n",
            "13/13 [==============================] - 0s 2ms/step - loss: 4.9586 - mae: 4.9586\n",
            "Epoch 34/100\n",
            "13/13 [==============================] - 0s 2ms/step - loss: 4.9686 - mae: 4.9686\n",
            "Epoch 35/100\n",
            "13/13 [==============================] - 0s 2ms/step - loss: 5.1724 - mae: 5.1724\n",
            "Epoch 36/100\n",
            "13/13 [==============================] - 0s 2ms/step - loss: 5.2462 - mae: 5.2462\n",
            "Epoch 37/100\n",
            "13/13 [==============================] - 0s 2ms/step - loss: 4.9119 - mae: 4.9119\n",
            "Epoch 38/100\n",
            "13/13 [==============================] - 0s 2ms/step - loss: 4.8564 - mae: 4.8564\n",
            "Epoch 39/100\n",
            "13/13 [==============================] - 0s 3ms/step - loss: 5.2637 - mae: 5.2637\n",
            "Epoch 40/100\n",
            "13/13 [==============================] - 0s 3ms/step - loss: 4.8485 - mae: 4.8485\n",
            "Epoch 41/100\n",
            "13/13 [==============================] - 0s 3ms/step - loss: 5.0200 - mae: 5.0200\n",
            "Epoch 42/100\n",
            "13/13 [==============================] - 0s 2ms/step - loss: 4.9754 - mae: 4.9754\n",
            "Epoch 43/100\n",
            "13/13 [==============================] - 0s 3ms/step - loss: 4.6043 - mae: 4.6043\n",
            "Epoch 44/100\n",
            "13/13 [==============================] - 0s 2ms/step - loss: 5.0175 - mae: 5.0175\n",
            "Epoch 45/100\n",
            "13/13 [==============================] - 0s 2ms/step - loss: 5.1458 - mae: 5.1458\n",
            "Epoch 46/100\n",
            "13/13 [==============================] - 0s 2ms/step - loss: 4.8720 - mae: 4.8720\n",
            "Epoch 47/100\n",
            "13/13 [==============================] - 0s 2ms/step - loss: 6.0431 - mae: 6.0431\n",
            "Epoch 48/100\n",
            "13/13 [==============================] - 0s 2ms/step - loss: 5.9280 - mae: 5.9280\n",
            "Epoch 49/100\n",
            "13/13 [==============================] - 0s 2ms/step - loss: 5.0938 - mae: 5.0938\n",
            "Epoch 50/100\n",
            "13/13 [==============================] - 0s 2ms/step - loss: 4.8453 - mae: 4.8453\n",
            "Epoch 51/100\n",
            "13/13 [==============================] - 0s 2ms/step - loss: 4.8975 - mae: 4.8975\n",
            "Epoch 52/100\n",
            "13/13 [==============================] - 0s 2ms/step - loss: 5.4289 - mae: 5.4289\n",
            "Epoch 53/100\n",
            "13/13 [==============================] - 0s 3ms/step - loss: 4.8018 - mae: 4.8018\n",
            "Epoch 54/100\n",
            "13/13 [==============================] - 0s 2ms/step - loss: 4.6351 - mae: 4.6351\n",
            "Epoch 55/100\n",
            "13/13 [==============================] - 0s 2ms/step - loss: 4.8860 - mae: 4.8860\n",
            "Epoch 56/100\n",
            "13/13 [==============================] - 0s 2ms/step - loss: 4.5949 - mae: 4.5949\n",
            "Epoch 57/100\n",
            "13/13 [==============================] - 0s 3ms/step - loss: 5.3499 - mae: 5.3499\n",
            "Epoch 58/100\n",
            "13/13 [==============================] - 0s 2ms/step - loss: 5.0949 - mae: 5.0949\n",
            "Epoch 59/100\n",
            "13/13 [==============================] - 0s 2ms/step - loss: 4.9859 - mae: 4.9859\n",
            "Epoch 60/100\n",
            "13/13 [==============================] - 0s 2ms/step - loss: 4.6988 - mae: 4.6988\n",
            "Epoch 61/100\n",
            "13/13 [==============================] - 0s 2ms/step - loss: 4.6687 - mae: 4.6687\n",
            "Epoch 62/100\n",
            "13/13 [==============================] - 0s 2ms/step - loss: 4.6274 - mae: 4.6274\n",
            "Epoch 63/100\n",
            "13/13 [==============================] - 0s 3ms/step - loss: 4.7740 - mae: 4.7740\n",
            "Epoch 64/100\n",
            "13/13 [==============================] - 0s 2ms/step - loss: 4.6788 - mae: 4.6788\n",
            "Epoch 65/100\n",
            "13/13 [==============================] - 0s 2ms/step - loss: 4.6372 - mae: 4.6372\n",
            "Epoch 66/100\n",
            "13/13 [==============================] - 0s 2ms/step - loss: 4.7218 - mae: 4.7218\n",
            "Epoch 67/100\n",
            "13/13 [==============================] - 0s 2ms/step - loss: 4.4998 - mae: 4.4998\n",
            "Epoch 68/100\n",
            "13/13 [==============================] - 0s 2ms/step - loss: 4.9386 - mae: 4.9386\n",
            "Epoch 69/100\n",
            "13/13 [==============================] - 0s 2ms/step - loss: 4.9677 - mae: 4.9677\n",
            "Epoch 70/100\n",
            "13/13 [==============================] - 0s 2ms/step - loss: 4.4025 - mae: 4.4025\n",
            "Epoch 71/100\n",
            "13/13 [==============================] - 0s 2ms/step - loss: 4.3488 - mae: 4.3488\n",
            "Epoch 72/100\n",
            "13/13 [==============================] - 0s 2ms/step - loss: 4.3810 - mae: 4.3810\n",
            "Epoch 73/100\n",
            "13/13 [==============================] - 0s 2ms/step - loss: 4.2212 - mae: 4.2212\n",
            "Epoch 74/100\n",
            "13/13 [==============================] - 0s 2ms/step - loss: 4.2736 - mae: 4.2736\n",
            "Epoch 75/100\n",
            "13/13 [==============================] - 0s 2ms/step - loss: 4.3712 - mae: 4.3712\n",
            "Epoch 76/100\n",
            "13/13 [==============================] - 0s 2ms/step - loss: 4.2033 - mae: 4.2033\n",
            "Epoch 77/100\n",
            "13/13 [==============================] - 0s 2ms/step - loss: 4.9614 - mae: 4.9614\n",
            "Epoch 78/100\n",
            "13/13 [==============================] - 0s 2ms/step - loss: 5.2241 - mae: 5.2241\n",
            "Epoch 79/100\n",
            "13/13 [==============================] - 0s 3ms/step - loss: 4.4134 - mae: 4.4134\n",
            "Epoch 80/100\n",
            "13/13 [==============================] - 0s 2ms/step - loss: 4.6790 - mae: 4.6790\n",
            "Epoch 81/100\n",
            "13/13 [==============================] - 0s 3ms/step - loss: 4.8415 - mae: 4.8415\n",
            "Epoch 82/100\n",
            "13/13 [==============================] - 0s 2ms/step - loss: 4.6168 - mae: 4.6168\n",
            "Epoch 83/100\n",
            "13/13 [==============================] - 0s 2ms/step - loss: 4.1658 - mae: 4.1658\n",
            "Epoch 84/100\n",
            "13/13 [==============================] - 0s 2ms/step - loss: 4.5213 - mae: 4.5213\n",
            "Epoch 85/100\n",
            "13/13 [==============================] - 0s 3ms/step - loss: 4.7587 - mae: 4.7587\n",
            "Epoch 86/100\n",
            "13/13 [==============================] - 0s 3ms/step - loss: 4.3554 - mae: 4.3554\n",
            "Epoch 87/100\n",
            "13/13 [==============================] - 0s 2ms/step - loss: 4.6067 - mae: 4.6067\n",
            "Epoch 88/100\n",
            "13/13 [==============================] - 0s 2ms/step - loss: 4.3029 - mae: 4.3029\n",
            "Epoch 89/100\n",
            "13/13 [==============================] - 0s 2ms/step - loss: 4.3083 - mae: 4.3083\n",
            "Epoch 90/100\n",
            "13/13 [==============================] - 0s 2ms/step - loss: 4.3804 - mae: 4.3804\n",
            "Epoch 91/100\n",
            "13/13 [==============================] - 0s 2ms/step - loss: 5.1363 - mae: 5.1363\n",
            "Epoch 92/100\n",
            "13/13 [==============================] - 0s 2ms/step - loss: 4.9505 - mae: 4.9505\n",
            "Epoch 93/100\n",
            "13/13 [==============================] - 0s 2ms/step - loss: 4.3671 - mae: 4.3671\n",
            "Epoch 94/100\n",
            "13/13 [==============================] - 0s 3ms/step - loss: 4.1434 - mae: 4.1434\n",
            "Epoch 95/100\n",
            "13/13 [==============================] - 0s 2ms/step - loss: 4.4575 - mae: 4.4575\n",
            "Epoch 96/100\n",
            "13/13 [==============================] - 0s 2ms/step - loss: 5.2461 - mae: 5.2461\n",
            "Epoch 97/100\n",
            "13/13 [==============================] - 0s 2ms/step - loss: 4.9397 - mae: 4.9397\n",
            "Epoch 98/100\n",
            "13/13 [==============================] - 0s 2ms/step - loss: 4.2412 - mae: 4.2412\n",
            "Epoch 99/100\n",
            "13/13 [==============================] - 0s 2ms/step - loss: 4.3847 - mae: 4.3847\n",
            "Epoch 100/100\n",
            "13/13 [==============================] - 0s 3ms/step - loss: 4.2255 - mae: 4.2255\n"
          ]
        }
      ]
    },
    {
      "cell_type": "code",
      "source": [
        "model_1.evaluate(X_test, y_test)"
      ],
      "metadata": {
        "colab": {
          "base_uri": "https://localhost:8080/"
        },
        "id": "9WI0vis82goP",
        "outputId": "d32c7c14-2e8f-47fb-a297-1cd509822b71"
      },
      "execution_count": 66,
      "outputs": [
        {
          "output_type": "stream",
          "name": "stdout",
          "text": [
            "4/4 [==============================] - 0s 3ms/step - loss: 3.7095 - mae: 3.7095\n"
          ]
        },
        {
          "output_type": "execute_result",
          "data": {
            "text/plain": [
              "[3.709460735321045, 3.709460735321045]"
            ]
          },
          "metadata": {},
          "execution_count": 66
        }
      ]
    },
    {
      "cell_type": "code",
      "source": [
        "model_1.predict([[0.21719\t,0.0\t,10.59\t,1.0\t,0.489\t,5.807\t,53.8\t,3.6526\t,4.0\t,277.0\t,18.6\t,390.94,16.03]])"
      ],
      "metadata": {
        "colab": {
          "base_uri": "https://localhost:8080/"
        },
        "id": "_T-JF3Nc2yJI",
        "outputId": "62dfb02b-ff76-4f27-dc34-011a81d12ab5"
      },
      "execution_count": 67,
      "outputs": [
        {
          "output_type": "execute_result",
          "data": {
            "text/plain": [
              "array([[20.520199]], dtype=float32)"
            ]
          },
          "metadata": {},
          "execution_count": 67
        }
      ]
    },
    {
      "cell_type": "code",
      "source": [
        "pd.DataFrame(history.history).plot(figsize=[10,7])"
      ],
      "metadata": {
        "colab": {
          "base_uri": "https://localhost:8080/",
          "height": 445
        },
        "id": "uMnGqa3u34UY",
        "outputId": "2ed2ff21-09aa-49f5-aae1-b7b214044a6c"
      },
      "execution_count": 68,
      "outputs": [
        {
          "output_type": "execute_result",
          "data": {
            "text/plain": [
              "<matplotlib.axes._subplots.AxesSubplot at 0x7fbe8d7f5510>"
            ]
          },
          "metadata": {},
          "execution_count": 68
        },
        {
          "output_type": "display_data",
          "data": {
            "image/png": "[encoded data removed]",
            "text/plain": [
              "<Figure size 720x504 with 1 Axes>"
            ]
          },
          "metadata": {
            "needs_background": "light"
          }
        }
      ]
    },
    {
      "cell_type": "code",
      "source": [
        "# using Normalized Data\n",
        "from sklearn.preprocessing import MinMaxScaler\n",
        "\n",
        "norm = MinMaxScaler()\n",
        "X_train_normal = norm.fit_transform(X_train)\n",
        "X_test_normal = norm.transform(X_test)\n",
        "#y_train_normal = norm_y.fit_transform(tf.expand_dims(y_train, axis=1))\n",
        "#y_test_normal = norm_y.transform(tf.expand_dims(y_test, axis=1))"
      ],
      "metadata": {
        "id": "lf6OTK7dz1H1"
      },
      "execution_count": 120,
      "outputs": []
    },
    {
      "cell_type": "code",
      "source": [
        "tf.random.set_seed(42)\n",
        "model_2 = tf.keras.Sequential([\n",
        "                               tf.keras.layers.Dense(50, 'relu'),\n",
        "                               tf.keras.layers.Dense(50, 'relu'),\n",
        "                               #tf.keras.layers.Dense(50, 'relu'),\n",
        "                               tf.keras.layers.Dense(1),\n",
        "])\n",
        "\n",
        "model_2.compile(loss = tf.keras.losses.mae,\n",
        "                optimizer = tf.keras.optimizers.Adam(learning_rate=0.01),\n",
        "                metrics = ['mae'])\n",
        "\n",
        "history = model_2.fit(X_train_normal, y_train, epochs = 100)"
      ],
      "metadata": {
        "colab": {
          "base_uri": "https://localhost:8080/"
        },
        "id": "VyvW4xR65ZVw",
        "outputId": "48100b59-168a-4fcc-87b3-5976a3f8b304"
      },
      "execution_count": 110,
      "outputs": [
        {
          "output_type": "stream",
          "name": "stdout",
          "text": [
            "Epoch 1/100\n",
            "13/13 [==============================] - 0s 2ms/step - loss: 18.4412 - mae: 18.4412\n",
            "Epoch 2/100\n",
            "13/13 [==============================] - 0s 2ms/step - loss: 9.3580 - mae: 9.3580\n",
            "Epoch 3/100\n",
            "13/13 [==============================] - 0s 3ms/step - loss: 6.3355 - mae: 6.3355\n",
            "Epoch 4/100\n",
            "13/13 [==============================] - 0s 2ms/step - loss: 5.0970 - mae: 5.0970\n",
            "Epoch 5/100\n",
            "13/13 [==============================] - 0s 2ms/step - loss: 4.6903 - mae: 4.6903\n",
            "Epoch 6/100\n",
            "13/13 [==============================] - 0s 2ms/step - loss: 4.2269 - mae: 4.2269\n",
            "Epoch 7/100\n",
            "13/13 [==============================] - 0s 2ms/step - loss: 3.8252 - mae: 3.8252\n",
            "Epoch 8/100\n",
            "13/13 [==============================] - 0s 2ms/step - loss: 3.5097 - mae: 3.5097\n",
            "Epoch 9/100\n",
            "13/13 [==============================] - 0s 2ms/step - loss: 3.2078 - mae: 3.2078\n",
            "Epoch 10/100\n",
            "13/13 [==============================] - 0s 2ms/step - loss: 3.0807 - mae: 3.0807\n",
            "Epoch 11/100\n",
            "13/13 [==============================] - 0s 2ms/step - loss: 2.9155 - mae: 2.9155\n",
            "Epoch 12/100\n",
            "13/13 [==============================] - 0s 2ms/step - loss: 2.8937 - mae: 2.8937\n",
            "Epoch 13/100\n",
            "13/13 [==============================] - 0s 2ms/step - loss: 2.8204 - mae: 2.8204\n",
            "Epoch 14/100\n",
            "13/13 [==============================] - 0s 2ms/step - loss: 2.6556 - mae: 2.6556\n",
            "Epoch 15/100\n",
            "13/13 [==============================] - 0s 2ms/step - loss: 2.6870 - mae: 2.6870\n",
            "Epoch 16/100\n",
            "13/13 [==============================] - 0s 2ms/step - loss: 2.5842 - mae: 2.5842\n",
            "Epoch 17/100\n",
            "13/13 [==============================] - 0s 3ms/step - loss: 2.6456 - mae: 2.6456\n",
            "Epoch 18/100\n",
            "13/13 [==============================] - 0s 2ms/step - loss: 3.0665 - mae: 3.0665\n",
            "Epoch 19/100\n",
            "13/13 [==============================] - 0s 3ms/step - loss: 2.6596 - mae: 2.6596\n",
            "Epoch 20/100\n",
            "13/13 [==============================] - 0s 3ms/step - loss: 2.4987 - mae: 2.4987\n",
            "Epoch 21/100\n",
            "13/13 [==============================] - 0s 2ms/step - loss: 2.6431 - mae: 2.6431\n",
            "Epoch 22/100\n",
            "13/13 [==============================] - 0s 3ms/step - loss: 2.5623 - mae: 2.5623\n",
            "Epoch 23/100\n",
            "13/13 [==============================] - 0s 2ms/step - loss: 2.6956 - mae: 2.6956\n",
            "Epoch 24/100\n",
            "13/13 [==============================] - 0s 2ms/step - loss: 2.5862 - mae: 2.5862\n",
            "Epoch 25/100\n",
            "13/13 [==============================] - 0s 2ms/step - loss: 2.4929 - mae: 2.4929\n",
            "Epoch 26/100\n",
            "13/13 [==============================] - 0s 2ms/step - loss: 2.3956 - mae: 2.3956\n",
            "Epoch 27/100\n",
            "13/13 [==============================] - 0s 2ms/step - loss: 2.4800 - mae: 2.4800\n",
            "Epoch 28/100\n",
            "13/13 [==============================] - 0s 2ms/step - loss: 2.3374 - mae: 2.3374\n",
            "Epoch 29/100\n",
            "13/13 [==============================] - 0s 2ms/step - loss: 2.4729 - mae: 2.4729\n",
            "Epoch 30/100\n",
            "13/13 [==============================] - 0s 3ms/step - loss: 2.5258 - mae: 2.5258\n",
            "Epoch 31/100\n",
            "13/13 [==============================] - 0s 2ms/step - loss: 2.3870 - mae: 2.3870\n",
            "Epoch 32/100\n",
            "13/13 [==============================] - 0s 2ms/step - loss: 2.3790 - mae: 2.3790\n",
            "Epoch 33/100\n",
            "13/13 [==============================] - 0s 2ms/step - loss: 2.3691 - mae: 2.3691\n",
            "Epoch 34/100\n",
            "13/13 [==============================] - 0s 2ms/step - loss: 2.2431 - mae: 2.2431\n",
            "Epoch 35/100\n",
            "13/13 [==============================] - 0s 2ms/step - loss: 2.3203 - mae: 2.3203\n",
            "Epoch 36/100\n",
            "13/13 [==============================] - 0s 2ms/step - loss: 2.5468 - mae: 2.5468\n",
            "Epoch 37/100\n",
            "13/13 [==============================] - 0s 2ms/step - loss: 2.2828 - mae: 2.2828\n",
            "Epoch 38/100\n",
            "13/13 [==============================] - 0s 2ms/step - loss: 2.2733 - mae: 2.2733\n",
            "Epoch 39/100\n",
            "13/13 [==============================] - 0s 2ms/step - loss: 2.3558 - mae: 2.3558\n",
            "Epoch 40/100\n",
            "13/13 [==============================] - 0s 2ms/step - loss: 2.2407 - mae: 2.2407\n",
            "Epoch 41/100\n",
            "13/13 [==============================] - 0s 3ms/step - loss: 2.2267 - mae: 2.2267\n",
            "Epoch 42/100\n",
            "13/13 [==============================] - 0s 2ms/step - loss: 2.2835 - mae: 2.2835\n",
            "Epoch 43/100\n",
            "13/13 [==============================] - 0s 2ms/step - loss: 2.2708 - mae: 2.2708\n",
            "Epoch 44/100\n",
            "13/13 [==============================] - 0s 2ms/step - loss: 2.2482 - mae: 2.2482\n",
            "Epoch 45/100\n",
            "13/13 [==============================] - 0s 2ms/step - loss: 2.1898 - mae: 2.1898\n",
            "Epoch 46/100\n",
            "13/13 [==============================] - 0s 2ms/step - loss: 2.4130 - mae: 2.4130\n",
            "Epoch 47/100\n",
            "13/13 [==============================] - 0s 2ms/step - loss: 2.2273 - mae: 2.2273\n",
            "Epoch 48/100\n",
            "13/13 [==============================] - 0s 3ms/step - loss: 2.2250 - mae: 2.2250\n",
            "Epoch 49/100\n",
            "13/13 [==============================] - 0s 3ms/step - loss: 2.1478 - mae: 2.1478\n",
            "Epoch 50/100\n",
            "13/13 [==============================] - 0s 2ms/step - loss: 2.1715 - mae: 2.1715\n",
            "Epoch 51/100\n",
            "13/13 [==============================] - 0s 2ms/step - loss: 2.1798 - mae: 2.1798\n",
            "Epoch 52/100\n",
            "13/13 [==============================] - 0s 3ms/step - loss: 2.3421 - mae: 2.3421\n",
            "Epoch 53/100\n",
            "13/13 [==============================] - 0s 2ms/step - loss: 2.2569 - mae: 2.2569\n",
            "Epoch 54/100\n",
            "13/13 [==============================] - 0s 2ms/step - loss: 2.1173 - mae: 2.1173\n",
            "Epoch 55/100\n",
            "13/13 [==============================] - 0s 2ms/step - loss: 2.2205 - mae: 2.2205\n",
            "Epoch 56/100\n",
            "13/13 [==============================] - 0s 3ms/step - loss: 2.3526 - mae: 2.3526\n",
            "Epoch 57/100\n",
            "13/13 [==============================] - 0s 2ms/step - loss: 2.1811 - mae: 2.1811\n",
            "Epoch 58/100\n",
            "13/13 [==============================] - 0s 3ms/step - loss: 2.0786 - mae: 2.0786\n",
            "Epoch 59/100\n",
            "13/13 [==============================] - 0s 2ms/step - loss: 2.1010 - mae: 2.1010\n",
            "Epoch 60/100\n",
            "13/13 [==============================] - 0s 2ms/step - loss: 2.0800 - mae: 2.0800\n",
            "Epoch 61/100\n",
            "13/13 [==============================] - 0s 2ms/step - loss: 2.1545 - mae: 2.1545\n",
            "Epoch 62/100\n",
            "13/13 [==============================] - 0s 2ms/step - loss: 2.0994 - mae: 2.0994\n",
            "Epoch 63/100\n",
            "13/13 [==============================] - 0s 2ms/step - loss: 2.1676 - mae: 2.1676\n",
            "Epoch 64/100\n",
            "13/13 [==============================] - 0s 2ms/step - loss: 2.0733 - mae: 2.0733\n",
            "Epoch 65/100\n",
            "13/13 [==============================] - 0s 3ms/step - loss: 2.0370 - mae: 2.0370\n",
            "Epoch 66/100\n",
            "13/13 [==============================] - 0s 2ms/step - loss: 2.1264 - mae: 2.1264\n",
            "Epoch 67/100\n",
            "13/13 [==============================] - 0s 2ms/step - loss: 2.0776 - mae: 2.0776\n",
            "Epoch 68/100\n",
            "13/13 [==============================] - 0s 2ms/step - loss: 2.1692 - mae: 2.1692\n",
            "Epoch 69/100\n",
            "13/13 [==============================] - 0s 2ms/step - loss: 2.0326 - mae: 2.0326\n",
            "Epoch 70/100\n",
            "13/13 [==============================] - 0s 2ms/step - loss: 2.0561 - mae: 2.0561\n",
            "Epoch 71/100\n",
            "13/13 [==============================] - 0s 2ms/step - loss: 2.0140 - mae: 2.0140\n",
            "Epoch 72/100\n",
            "13/13 [==============================] - 0s 3ms/step - loss: 1.9865 - mae: 1.9865\n",
            "Epoch 73/100\n",
            "13/13 [==============================] - 0s 2ms/step - loss: 2.0837 - mae: 2.0837\n",
            "Epoch 74/100\n",
            "13/13 [==============================] - 0s 2ms/step - loss: 2.0680 - mae: 2.0680\n",
            "Epoch 75/100\n",
            "13/13 [==============================] - 0s 2ms/step - loss: 2.0493 - mae: 2.0493\n",
            "Epoch 76/100\n",
            "13/13 [==============================] - 0s 2ms/step - loss: 2.0157 - mae: 2.0157\n",
            "Epoch 77/100\n",
            "13/13 [==============================] - 0s 2ms/step - loss: 2.1041 - mae: 2.1041\n",
            "Epoch 78/100\n",
            "13/13 [==============================] - 0s 2ms/step - loss: 1.9991 - mae: 1.9991\n",
            "Epoch 79/100\n",
            "13/13 [==============================] - 0s 2ms/step - loss: 2.1387 - mae: 2.1387\n",
            "Epoch 80/100\n",
            "13/13 [==============================] - 0s 3ms/step - loss: 2.0280 - mae: 2.0280\n",
            "Epoch 81/100\n",
            "13/13 [==============================] - 0s 3ms/step - loss: 2.0318 - mae: 2.0318\n",
            "Epoch 82/100\n",
            "13/13 [==============================] - 0s 3ms/step - loss: 2.0349 - mae: 2.0349\n",
            "Epoch 83/100\n",
            "13/13 [==============================] - 0s 2ms/step - loss: 1.9597 - mae: 1.9597\n",
            "Epoch 84/100\n",
            "13/13 [==============================] - 0s 2ms/step - loss: 1.9417 - mae: 1.9417\n",
            "Epoch 85/100\n",
            "13/13 [==============================] - 0s 2ms/step - loss: 2.0410 - mae: 2.0410\n",
            "Epoch 86/100\n",
            "13/13 [==============================] - 0s 2ms/step - loss: 2.0023 - mae: 2.0023\n",
            "Epoch 87/100\n",
            "13/13 [==============================] - 0s 2ms/step - loss: 2.1067 - mae: 2.1067\n",
            "Epoch 88/100\n",
            "13/13 [==============================] - 0s 2ms/step - loss: 1.9687 - mae: 1.9687\n",
            "Epoch 89/100\n",
            "13/13 [==============================] - 0s 3ms/step - loss: 2.0779 - mae: 2.0779\n",
            "Epoch 90/100\n",
            "13/13 [==============================] - 0s 2ms/step - loss: 1.9979 - mae: 1.9979\n",
            "Epoch 91/100\n",
            "13/13 [==============================] - 0s 2ms/step - loss: 2.0269 - mae: 2.0269\n",
            "Epoch 92/100\n",
            "13/13 [==============================] - 0s 2ms/step - loss: 1.8966 - mae: 1.8966\n",
            "Epoch 93/100\n",
            "13/13 [==============================] - 0s 2ms/step - loss: 2.0522 - mae: 2.0522\n",
            "Epoch 94/100\n",
            "13/13 [==============================] - 0s 2ms/step - loss: 1.9769 - mae: 1.9769\n",
            "Epoch 95/100\n",
            "13/13 [==============================] - 0s 2ms/step - loss: 2.0657 - mae: 2.0657\n",
            "Epoch 96/100\n",
            "13/13 [==============================] - 0s 2ms/step - loss: 2.2926 - mae: 2.2926\n",
            "Epoch 97/100\n",
            "13/13 [==============================] - 0s 3ms/step - loss: 2.0671 - mae: 2.0671\n",
            "Epoch 98/100\n",
            "13/13 [==============================] - 0s 2ms/step - loss: 2.0051 - mae: 2.0051\n",
            "Epoch 99/100\n",
            "13/13 [==============================] - 0s 2ms/step - loss: 1.9800 - mae: 1.9800\n",
            "Epoch 100/100\n",
            "13/13 [==============================] - 0s 3ms/step - loss: 1.9636 - mae: 1.9636\n"
          ]
        }
      ]
    },
    {
      "cell_type": "code",
      "source": [
        "model_2.evaluate(X_test_normal, y_test)"
      ],
      "metadata": {
        "colab": {
          "base_uri": "https://localhost:8080/"
        },
        "id": "EMl_88w954gI",
        "outputId": "75e8b192-3d8c-4f70-d476-d17b84d47a9a"
      },
      "execution_count": 111,
      "outputs": [
        {
          "output_type": "stream",
          "name": "stdout",
          "text": [
            "4/4 [==============================] - 0s 3ms/step - loss: 2.4961 - mae: 2.4961\n"
          ]
        },
        {
          "output_type": "execute_result",
          "data": {
            "text/plain": [
              "[2.4961256980895996, 2.4961256980895996]"
            ]
          },
          "metadata": {},
          "execution_count": 111
        }
      ]
    },
    {
      "cell_type": "code",
      "source": [
        "model_2.predict(norm.transform([[0.21719\t,0.0\t,10.59\t,1.0\t,0.489\t,5.807\t,53.8\t,3.6526\t,4.0\t,277.0\t,18.6\t,390.94,16.03]]))"
      ],
      "metadata": {
        "colab": {
          "base_uri": "https://localhost:8080/"
        },
        "id": "VrwSFd826hBo",
        "outputId": "853c2e3b-c713-4205-e7c0-8cc145b04de8"
      },
      "execution_count": 112,
      "outputs": [
        {
          "output_type": "execute_result",
          "data": {
            "text/plain": [
              "array([[22.486725]], dtype=float32)"
            ]
          },
          "metadata": {},
          "execution_count": 112
        }
      ]
    },
    {
      "cell_type": "code",
      "source": [
        "from IPython.core.pylabtools import figsize\n",
        "pd.DataFrame(history.history).plot(figsize=[10,7])"
      ],
      "metadata": {
        "colab": {
          "base_uri": "https://localhost:8080/",
          "height": 445
        },
        "id": "Bq_PNV8LHdrL",
        "outputId": "9199dbee-9ff4-4e0f-c660-797c6e2b617c"
      },
      "execution_count": 126,
      "outputs": [
        {
          "output_type": "execute_result",
          "data": {
            "text/plain": [
              "<matplotlib.axes._subplots.AxesSubplot at 0x7fbe8d2b9710>"
            ]
          },
          "metadata": {},
          "execution_count": 126
        },
        {
          "output_type": "display_data",
          "data": {
            "image/png": "[encoded data removed]",
            "text/plain": [
              "<Figure size 720x504 with 1 Axes>"
            ]
          },
          "metadata": {
            "needs_background": "light"
          }
        }
      ]
    },
    {
      "cell_type": "markdown",
      "source": [
        "4 layers weren't helpin much so I reduced the layers to keep it less complex\n",
        "\n",
        "as we've seen Normalization plays quite an important role in gettin the good results"
      ],
      "metadata": {
        "id": "tXrVgzDXDBQS"
      }
    },
    {
      "cell_type": "code",
      "source": [
        "y_pred = model_2.predict(X_test_normal)"
      ],
      "metadata": {
        "id": "gkUPZMNUGMbQ"
      },
      "execution_count": 123,
      "outputs": []
    },
    {
      "cell_type": "code",
      "source": [
        "tf.keras.metrics.mean_squared_error(y_true = y_test, y_pred = tf.squeeze(y_pred)).numpy()"
      ],
      "metadata": {
        "colab": {
          "base_uri": "https://localhost:8080/"
        },
        "id": "2UF2GPmqDoWC",
        "outputId": "a0eaf2a6-c657-45e0-fbfb-6722064bd7a3"
      },
      "execution_count": 124,
      "outputs": [
        {
          "output_type": "execute_result",
          "data": {
            "text/plain": [
              "12.85861"
            ]
          },
          "metadata": {},
          "execution_count": 124
        }
      ]
    }
  ]
}