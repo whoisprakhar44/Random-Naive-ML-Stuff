{
  "nbformat": 4,
  "nbformat_minor": 0,
  "metadata": {
    "colab": {
      "provenance": [],
      "authorship_tag": "ABX9TyNZEl/ROnZL0ookM5J29Um2"
    },
    "kernelspec": {
      "name": "python3",
      "display_name": "Python 3"
    },
    "language_info": {
      "name": "python"
    }
  },
  "cells": [
    {
      "cell_type": "code",
      "execution_count": null,
      "metadata": {
        "id": "6SlxbP3Dyvt0"
      },
      "outputs": [],
      "source": [
        "from keras import Sequential"
      ]
    },
    {
      "cell_type": "code",
      "source": [
        "from keras.layers import Dense, SimpleRNN"
      ],
      "metadata": {
        "id": "IL42UIzVzLvp"
      },
      "execution_count": null,
      "outputs": []
    },
    {
      "cell_type": "code",
      "source": [
        "model = Sequential()"
      ],
      "metadata": {
        "id": "76eoBEf2zddv"
      },
      "execution_count": null,
      "outputs": []
    },
    {
      "cell_type": "code",
      "source": [
        "model.add(SimpleRNN(3, input_shape=(4, 5))) # 4 is the length of word(max) 5 is the total vocab\n",
        "model.add(Dense(1, activation='sigmoid'))"
      ],
      "metadata": {
        "id": "xV4tNU_izgjY"
      },
      "execution_count": null,
      "outputs": []
    },
    {
      "cell_type": "code",
      "source": [
        "model.summary()"
      ],
      "metadata": {
        "colab": {
          "base_uri": "https://localhost:8080/"
        },
        "id": "Cwd5N3Up0RkP",
        "outputId": "b9a5d7c9-7b8a-4b51-9a17-7b353a888a72"
      },
      "execution_count": null,
      "outputs": [
        {
          "output_type": "stream",
          "name": "stdout",
          "text": [
            "Model: \"sequential\"\n",
            "_________________________________________________________________\n",
            " Layer (type)                Output Shape              Param #   \n",
            "=================================================================\n",
            " simple_rnn (SimpleRNN)      (None, 3)                 27        \n",
            "                                                                 \n",
            " dense (Dense)               (None, 1)                 4         \n",
            "                                                                 \n",
            "=================================================================\n",
            "Total params: 31 (124.00 Byte)\n",
            "Trainable params: 31 (124.00 Byte)\n",
            "Non-trainable params: 0 (0.00 Byte)\n",
            "_________________________________________________________________\n"
          ]
        }
      ]
    },
    {
      "cell_type": "code",
      "source": [
        "model.get_weights()"
      ],
      "metadata": {
        "colab": {
          "base_uri": "https://localhost:8080/"
        },
        "id": "nG4NK7Lf0S4d",
        "outputId": "96b6f91c-4b6b-4187-df92-62f498724743"
      },
      "execution_count": null,
      "outputs": [
        {
          "output_type": "execute_result",
          "data": {
            "text/plain": [
              "[array([[-0.05525291,  0.05311567,  0.21823078],\n",
              "        [-0.5753267 , -0.48160818,  0.13537484],\n",
              "        [ 0.427635  , -0.15691328, -0.11925983],\n",
              "        [-0.3206585 ,  0.7170226 ,  0.57352513],\n",
              "        [ 0.7194541 ,  0.5819071 , -0.26035863]], dtype=float32),\n",
              " array([[ 0.55340636, -0.6954879 , -0.4582989 ],\n",
              "        [ 0.7423261 ,  0.16229478,  0.6500864 ],\n",
              "        [-0.37774774, -0.6999692 ,  0.60609376]], dtype=float32),\n",
              " array([0., 0., 0.], dtype=float32),\n",
              " array([[ 0.45949197],\n",
              "        [-0.5714072 ],\n",
              "        [ 0.43289638]], dtype=float32),\n",
              " array([0.], dtype=float32)]"
            ]
          },
          "metadata": {},
          "execution_count": 7
        }
      ]
    },
    {
      "cell_type": "code",
      "source": [
        "model.get_weights()[0]"
      ],
      "metadata": {
        "colab": {
          "base_uri": "https://localhost:8080/"
        },
        "id": "JJtP31xj2ecY",
        "outputId": "3509e3e3-ab5a-49ab-efe5-7636bc4dccde"
      },
      "execution_count": null,
      "outputs": [
        {
          "output_type": "execute_result",
          "data": {
            "text/plain": [
              "array([[-0.05525291,  0.05311567,  0.21823078],\n",
              "       [-0.5753267 , -0.48160818,  0.13537484],\n",
              "       [ 0.427635  , -0.15691328, -0.11925983],\n",
              "       [-0.3206585 ,  0.7170226 ,  0.57352513],\n",
              "       [ 0.7194541 ,  0.5819071 , -0.26035863]], dtype=float32)"
            ]
          },
          "metadata": {},
          "execution_count": 8
        }
      ]
    },
    {
      "cell_type": "code",
      "source": [
        "from keras.datasets import imdb"
      ],
      "metadata": {
        "id": "xkEU8hpO2neQ"
      },
      "execution_count": null,
      "outputs": []
    },
    {
      "cell_type": "code",
      "source": [
        "(X_train, y_train), (X_test, y_test) = imdb.load_data()"
      ],
      "metadata": {
        "id": "byybB3NKLmol"
      },
      "execution_count": null,
      "outputs": []
    },
    {
      "cell_type": "code",
      "source": [
        "X_train[0]"
      ],
      "metadata": {
        "colab": {
          "base_uri": "https://localhost:8080/"
        },
        "id": "gCu2N6fJLo4Z",
        "outputId": "ac9cde43-09a1-4453-a074-5938f3505521"
      },
      "execution_count": null,
      "outputs": [
        {
          "output_type": "execute_result",
          "data": {
            "text/plain": [
              "[1,\n",
              " 14,\n",
              " 22,\n",
              " 16,\n",
              " 43,\n",
              " 530,\n",
              " 973,\n",
              " 1622,\n",
              " 1385,\n",
              " 65,\n",
              " 458,\n",
              " 4468,\n",
              " 66,\n",
              " 3941,\n",
              " 4,\n",
              " 173,\n",
              " 36,\n",
              " 256,\n",
              " 5,\n",
              " 25,\n",
              " 100,\n",
              " 43,\n",
              " 838,\n",
              " 112,\n",
              " 50,\n",
              " 670,\n",
              " 22665,\n",
              " 9,\n",
              " 35,\n",
              " 480,\n",
              " 284,\n",
              " 5,\n",
              " 150,\n",
              " 4,\n",
              " 172,\n",
              " 112,\n",
              " 167,\n",
              " 21631,\n",
              " 336,\n",
              " 385,\n",
              " 39,\n",
              " 4,\n",
              " 172,\n",
              " 4536,\n",
              " 1111,\n",
              " 17,\n",
              " 546,\n",
              " 38,\n",
              " 13,\n",
              " 447,\n",
              " 4,\n",
              " 192,\n",
              " 50,\n",
              " 16,\n",
              " 6,\n",
              " 147,\n",
              " 2025,\n",
              " 19,\n",
              " 14,\n",
              " 22,\n",
              " 4,\n",
              " 1920,\n",
              " 4613,\n",
              " 469,\n",
              " 4,\n",
              " 22,\n",
              " 71,\n",
              " 87,\n",
              " 12,\n",
              " 16,\n",
              " 43,\n",
              " 530,\n",
              " 38,\n",
              " 76,\n",
              " 15,\n",
              " 13,\n",
              " 1247,\n",
              " 4,\n",
              " 22,\n",
              " 17,\n",
              " 515,\n",
              " 17,\n",
              " 12,\n",
              " 16,\n",
              " 626,\n",
              " 18,\n",
              " 19193,\n",
              " 5,\n",
              " 62,\n",
              " 386,\n",
              " 12,\n",
              " 8,\n",
              " 316,\n",
              " 8,\n",
              " 106,\n",
              " 5,\n",
              " 4,\n",
              " 2223,\n",
              " 5244,\n",
              " 16,\n",
              " 480,\n",
              " 66,\n",
              " 3785,\n",
              " 33,\n",
              " 4,\n",
              " 130,\n",
              " 12,\n",
              " 16,\n",
              " 38,\n",
              " 619,\n",
              " 5,\n",
              " 25,\n",
              " 124,\n",
              " 51,\n",
              " 36,\n",
              " 135,\n",
              " 48,\n",
              " 25,\n",
              " 1415,\n",
              " 33,\n",
              " 6,\n",
              " 22,\n",
              " 12,\n",
              " 215,\n",
              " 28,\n",
              " 77,\n",
              " 52,\n",
              " 5,\n",
              " 14,\n",
              " 407,\n",
              " 16,\n",
              " 82,\n",
              " 10311,\n",
              " 8,\n",
              " 4,\n",
              " 107,\n",
              " 117,\n",
              " 5952,\n",
              " 15,\n",
              " 256,\n",
              " 4,\n",
              " 31050,\n",
              " 7,\n",
              " 3766,\n",
              " 5,\n",
              " 723,\n",
              " 36,\n",
              " 71,\n",
              " 43,\n",
              " 530,\n",
              " 476,\n",
              " 26,\n",
              " 400,\n",
              " 317,\n",
              " 46,\n",
              " 7,\n",
              " 4,\n",
              " 12118,\n",
              " 1029,\n",
              " 13,\n",
              " 104,\n",
              " 88,\n",
              " 4,\n",
              " 381,\n",
              " 15,\n",
              " 297,\n",
              " 98,\n",
              " 32,\n",
              " 2071,\n",
              " 56,\n",
              " 26,\n",
              " 141,\n",
              " 6,\n",
              " 194,\n",
              " 7486,\n",
              " 18,\n",
              " 4,\n",
              " 226,\n",
              " 22,\n",
              " 21,\n",
              " 134,\n",
              " 476,\n",
              " 26,\n",
              " 480,\n",
              " 5,\n",
              " 144,\n",
              " 30,\n",
              " 5535,\n",
              " 18,\n",
              " 51,\n",
              " 36,\n",
              " 28,\n",
              " 224,\n",
              " 92,\n",
              " 25,\n",
              " 104,\n",
              " 4,\n",
              " 226,\n",
              " 65,\n",
              " 16,\n",
              " 38,\n",
              " 1334,\n",
              " 88,\n",
              " 12,\n",
              " 16,\n",
              " 283,\n",
              " 5,\n",
              " 16,\n",
              " 4472,\n",
              " 113,\n",
              " 103,\n",
              " 32,\n",
              " 15,\n",
              " 16,\n",
              " 5345,\n",
              " 19,\n",
              " 178,\n",
              " 32]"
            ]
          },
          "metadata": {},
          "execution_count": 16
        }
      ]
    },
    {
      "cell_type": "code",
      "source": [
        "X_train.shape"
      ],
      "metadata": {
        "colab": {
          "base_uri": "https://localhost:8080/"
        },
        "id": "Dmjd5w2BLye2",
        "outputId": "18ee422d-0541-429d-e4d4-2db0896d5ecd"
      },
      "execution_count": null,
      "outputs": [
        {
          "output_type": "execute_result",
          "data": {
            "text/plain": [
              "(25000,)"
            ]
          },
          "metadata": {},
          "execution_count": 17
        }
      ]
    },
    {
      "cell_type": "code",
      "source": [
        "import numpy as np\n",
        "\n",
        "sent = [\n",
        "    \"Argentina won worldcup\",\n",
        "    \"messi played very well\",\n",
        "    \"above all is my imagination\",\n",
        "    \"definitely we gonna win next worldcup\"\n",
        "]"
      ],
      "metadata": {
        "id": "xF5232tQM54R"
      },
      "execution_count": null,
      "outputs": []
    },
    {
      "cell_type": "code",
      "source": [
        "from keras.preprocessing.text import Tokenizer # integer encoding"
      ],
      "metadata": {
        "id": "pPFBph0bNkPs"
      },
      "execution_count": null,
      "outputs": []
    },
    {
      "cell_type": "code",
      "source": [
        "tokenizer = Tokenizer()"
      ],
      "metadata": {
        "id": "y-RGjwr2NymB"
      },
      "execution_count": null,
      "outputs": []
    },
    {
      "cell_type": "code",
      "source": [
        "tokenizer.fit_on_texts(sent)"
      ],
      "metadata": {
        "id": "8sE2tdgwN1Dz"
      },
      "execution_count": null,
      "outputs": []
    },
    {
      "cell_type": "code",
      "source": [
        "tokenizer.word_index"
      ],
      "metadata": {
        "colab": {
          "base_uri": "https://localhost:8080/"
        },
        "id": "EZhm4w5WN5ZH",
        "outputId": "68609f1c-7aea-448c-cdd0-4529d6120841"
      },
      "execution_count": null,
      "outputs": [
        {
          "output_type": "execute_result",
          "data": {
            "text/plain": [
              "{'worldcup': 1,\n",
              " 'argentina': 2,\n",
              " 'won': 3,\n",
              " 'messi': 4,\n",
              " 'played': 5,\n",
              " 'very': 6,\n",
              " 'well': 7,\n",
              " 'above': 8,\n",
              " 'all': 9,\n",
              " 'is': 10,\n",
              " 'my': 11,\n",
              " 'imagination': 12,\n",
              " 'definitely': 13,\n",
              " 'we': 14,\n",
              " 'gonna': 15,\n",
              " 'win': 16,\n",
              " 'next': 17}"
            ]
          },
          "metadata": {},
          "execution_count": 22
        }
      ]
    },
    {
      "cell_type": "code",
      "source": [
        "tokenizer.word_counts"
      ],
      "metadata": {
        "colab": {
          "base_uri": "https://localhost:8080/"
        },
        "id": "GZpcor4gN8AD",
        "outputId": "a9224b76-0b28-437c-bfe3-b536749edebf"
      },
      "execution_count": null,
      "outputs": [
        {
          "output_type": "execute_result",
          "data": {
            "text/plain": [
              "OrderedDict([('argentina', 1),\n",
              "             ('won', 1),\n",
              "             ('worldcup', 2),\n",
              "             ('messi', 1),\n",
              "             ('played', 1),\n",
              "             ('very', 1),\n",
              "             ('well', 1),\n",
              "             ('above', 1),\n",
              "             ('all', 1),\n",
              "             ('is', 1),\n",
              "             ('my', 1),\n",
              "             ('imagination', 1),\n",
              "             ('definitely', 1),\n",
              "             ('we', 1),\n",
              "             ('gonna', 1),\n",
              "             ('win', 1),\n",
              "             ('next', 1)])"
            ]
          },
          "metadata": {},
          "execution_count": 23
        }
      ]
    },
    {
      "cell_type": "code",
      "source": [
        "tokenizer.document_count"
      ],
      "metadata": {
        "colab": {
          "base_uri": "https://localhost:8080/"
        },
        "id": "zBgZAT5APYho",
        "outputId": "3ca477c8-fd35-4ecf-da56-1a714c788bfd"
      },
      "execution_count": null,
      "outputs": [
        {
          "output_type": "execute_result",
          "data": {
            "text/plain": [
              "4"
            ]
          },
          "metadata": {},
          "execution_count": 24
        }
      ]
    },
    {
      "cell_type": "code",
      "source": [
        "encoding = tokenizer.texts_to_sequences(sent)"
      ],
      "metadata": {
        "id": "Z8uIYpIqPjcT"
      },
      "execution_count": null,
      "outputs": []
    },
    {
      "cell_type": "code",
      "source": [
        "encoding"
      ],
      "metadata": {
        "colab": {
          "base_uri": "https://localhost:8080/"
        },
        "id": "0danvr-zPoeg",
        "outputId": "1975c187-ddec-41bf-ac42-3c69ac718dd8"
      },
      "execution_count": null,
      "outputs": [
        {
          "output_type": "execute_result",
          "data": {
            "text/plain": [
              "[[2, 3, 1], [4, 5, 6, 7], [8, 9, 10, 11, 12], [13, 14, 15, 16, 17, 1]]"
            ]
          },
          "metadata": {},
          "execution_count": 29
        }
      ]
    },
    {
      "cell_type": "code",
      "source": [
        "from keras.utils import pad_sequences # using padding to make every sequence as same size"
      ],
      "metadata": {
        "id": "mf2DvYAmP5Ie"
      },
      "execution_count": null,
      "outputs": []
    },
    {
      "cell_type": "code",
      "source": [
        "pad_sequences(encoding, padding='post')"
      ],
      "metadata": {
        "colab": {
          "base_uri": "https://localhost:8080/"
        },
        "id": "T3D76OGAQOcR",
        "outputId": "e4ffb795-d73a-4d7a-e463-2cdebc055478"
      },
      "execution_count": null,
      "outputs": [
        {
          "output_type": "execute_result",
          "data": {
            "text/plain": [
              "array([[ 2,  3,  1,  0,  0,  0],\n",
              "       [ 4,  5,  6,  7,  0,  0],\n",
              "       [ 8,  9, 10, 11, 12,  0],\n",
              "       [13, 14, 15, 16, 17,  1]], dtype=int32)"
            ]
          },
          "metadata": {},
          "execution_count": 32
        }
      ]
    },
    {
      "cell_type": "code",
      "source": [
        "y_train"
      ],
      "metadata": {
        "colab": {
          "base_uri": "https://localhost:8080/"
        },
        "id": "n6aNS66FQQ7K",
        "outputId": "b439a969-d3f7-41e3-c1ee-652747a2ec36"
      },
      "execution_count": null,
      "outputs": [
        {
          "output_type": "execute_result",
          "data": {
            "text/plain": [
              "array([1, 0, 0, ..., 0, 1, 0])"
            ]
          },
          "metadata": {},
          "execution_count": 33
        }
      ]
    },
    {
      "cell_type": "code",
      "source": [
        "len(X_train[0])"
      ],
      "metadata": {
        "colab": {
          "base_uri": "https://localhost:8080/"
        },
        "id": "8WbojResQ90t",
        "outputId": "562a5bc8-97b7-427f-84c5-87688a084103"
      },
      "execution_count": null,
      "outputs": [
        {
          "output_type": "execute_result",
          "data": {
            "text/plain": [
              "218"
            ]
          },
          "metadata": {},
          "execution_count": 35
        }
      ]
    },
    {
      "cell_type": "markdown",
      "source": [
        "taking minimum length -- if taking maximum length then paddin is required"
      ],
      "metadata": {
        "id": "v8AyaWaVRJgL"
      }
    },
    {
      "cell_type": "code",
      "source": [
        "myList = []\n",
        "for i in X_train:\n",
        "    myList.append(len(i))\n",
        "\n",
        "min(myList)"
      ],
      "metadata": {
        "colab": {
          "base_uri": "https://localhost:8080/"
        },
        "id": "QCqa0OkoRBON",
        "outputId": "573ab81b-fa6f-4906-a473-0c5e28c2bd88"
      },
      "execution_count": null,
      "outputs": [
        {
          "output_type": "execute_result",
          "data": {
            "text/plain": [
              "11"
            ]
          },
          "metadata": {},
          "execution_count": 36
        }
      ]
    },
    {
      "cell_type": "markdown",
      "source": [
        "too low -- padding is required"
      ],
      "metadata": {
        "id": "NfPtjnWXRnJp"
      }
    },
    {
      "cell_type": "code",
      "source": [
        "X_train = pad_sequences(X_train, padding = 'post', maxlen = 50)"
      ],
      "metadata": {
        "id": "yzslG2SJRmnM"
      },
      "execution_count": null,
      "outputs": []
    },
    {
      "cell_type": "code",
      "source": [
        "X_test = pad_sequences(X_test, padding='post', maxlen=50)"
      ],
      "metadata": {
        "id": "IuxOYm4GSDfd"
      },
      "execution_count": null,
      "outputs": []
    },
    {
      "cell_type": "code",
      "source": [
        "model = Sequential()"
      ],
      "metadata": {
        "id": "lzmo_UtDQxb-"
      },
      "execution_count": null,
      "outputs": []
    },
    {
      "cell_type": "code",
      "source": [
        "model.add(SimpleRNN(32, input_shape = (50, 1)))"
      ],
      "metadata": {
        "id": "xCOqNH0dQzwz"
      },
      "execution_count": null,
      "outputs": []
    },
    {
      "cell_type": "code",
      "source": [
        "model.add(Dense(1, activation='sigmoid'))"
      ],
      "metadata": {
        "id": "ALyON3RaSQrP"
      },
      "execution_count": null,
      "outputs": []
    },
    {
      "cell_type": "code",
      "source": [
        "model.summary()"
      ],
      "metadata": {
        "colab": {
          "base_uri": "https://localhost:8080/"
        },
        "id": "4PEAdqDFSVaV",
        "outputId": "f0dff391-5db6-4653-b0a8-365ce5bc0871"
      },
      "execution_count": null,
      "outputs": [
        {
          "output_type": "stream",
          "name": "stdout",
          "text": [
            "Model: \"sequential_1\"\n",
            "_________________________________________________________________\n",
            " Layer (type)                Output Shape              Param #   \n",
            "=================================================================\n",
            " simple_rnn_1 (SimpleRNN)    (None, 32)                1088      \n",
            "                                                                 \n",
            " dense_1 (Dense)             (None, 1)                 33        \n",
            "                                                                 \n",
            "=================================================================\n",
            "Total params: 1121 (4.38 KB)\n",
            "Trainable params: 1121 (4.38 KB)\n",
            "Non-trainable params: 0 (0.00 Byte)\n",
            "_________________________________________________________________\n"
          ]
        }
      ]
    },
    {
      "cell_type": "code",
      "source": [
        "model.compile(loss='binary_crossentropy',\n",
        "              optimizer = 'adam',\n",
        "              metrics=['accuracy'])"
      ],
      "metadata": {
        "id": "xk8S_YCOSWxJ"
      },
      "execution_count": null,
      "outputs": []
    },
    {
      "cell_type": "code",
      "source": [
        "model.fit(X_train, y_train,\n",
        "          validation_data= (X_test, y_test),\n",
        "          epochs=5)"
      ],
      "metadata": {
        "colab": {
          "base_uri": "https://localhost:8080/"
        },
        "id": "1DPJqGBQSk6y",
        "outputId": "559d6278-2c02-45d7-a856-f91b409d482f"
      },
      "execution_count": null,
      "outputs": [
        {
          "output_type": "stream",
          "name": "stdout",
          "text": [
            "Epoch 1/5\n",
            "782/782 [==============================] - 15s 17ms/step - loss: 0.7150 - accuracy: 0.5083 - val_loss: 0.6940 - val_accuracy: 0.5068\n",
            "Epoch 2/5\n",
            "782/782 [==============================] - 13s 17ms/step - loss: 0.6930 - accuracy: 0.5081 - val_loss: 0.6943 - val_accuracy: 0.5011\n",
            "Epoch 3/5\n",
            "782/782 [==============================] - 11s 15ms/step - loss: 0.6930 - accuracy: 0.5040 - val_loss: 0.6953 - val_accuracy: 0.5024\n",
            "Epoch 4/5\n",
            "782/782 [==============================] - 15s 19ms/step - loss: 0.6925 - accuracy: 0.5049 - val_loss: 0.6938 - val_accuracy: 0.5019\n",
            "Epoch 5/5\n",
            "782/782 [==============================] - 11s 14ms/step - loss: 0.6927 - accuracy: 0.5104 - val_loss: 0.6939 - val_accuracy: 0.5004\n"
          ]
        },
        {
          "output_type": "execute_result",
          "data": {
            "text/plain": [
              "<keras.src.callbacks.History at 0x7897d9757310>"
            ]
          },
          "metadata": {},
          "execution_count": 44
        }
      ]
    },
    {
      "cell_type": "code",
      "source": [
        "model.predict(X_test)"
      ],
      "metadata": {
        "colab": {
          "base_uri": "https://localhost:8080/"
        },
        "id": "xQgiiGmwSt8w",
        "outputId": "8ed01858-4ef1-4433-e7aa-2d92516b3e46"
      },
      "execution_count": null,
      "outputs": [
        {
          "output_type": "stream",
          "name": "stdout",
          "text": [
            "782/782 [==============================] - 5s 6ms/step\n"
          ]
        },
        {
          "output_type": "execute_result",
          "data": {
            "text/plain": [
              "array([[0.4955257],\n",
              "       [0.4955257],\n",
              "       [0.4955257],\n",
              "       ...,\n",
              "       [0.4955257],\n",
              "       [0.4955257],\n",
              "       [0.4955257]], dtype=float32)"
            ]
          },
          "metadata": {},
          "execution_count": 45
        }
      ]
    },
    {
      "cell_type": "code",
      "source": [],
      "metadata": {
        "id": "4V97k3HHTq2a"
      },
      "execution_count": null,
      "outputs": []
    }
  ]
}